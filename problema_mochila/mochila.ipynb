{
 "cells": [
  {
   "cell_type": "code",
   "execution_count": 41,
   "metadata": {},
   "outputs": [],
   "source": [
    "def knapsack(items, capacity):\n",
    "    n = len(items)\n",
    "    dp = [[0] * (capacity + 1) for _ in range(n + 1)]\n",
    "\n",
    "    for i in range(1, n + 1):\n",
    "        for w in range(1, capacity + 1):\n",
    "            weight = items[i - 1][0]\n",
    "            value = items[i - 1][1]\n",
    "            if weight >= w:\n",
    "                dp[i][w] = dp[i - 1][w]\n",
    "            else:\n",
    "                dp[i][w] = max(dp[i - 1][w], dp[i - 1][w - weight] + value)\n",
    "\n",
    "    selected_items = []\n",
    "    w = capacity\n",
    "    for i in range(n, 0, -1):\n",
    "        if dp[i][w] != dp[i - 1][w]:\n",
    "            selected_items.append(items[i - 1])\n",
    "            w -= items[i - 1][0]\n",
    "\n",
    "    return dp[n][capacity], selected_items"
   ]
  },
  {
   "cell_type": "code",
   "execution_count": 42,
   "metadata": {},
   "outputs": [
    {
     "data": {
      "text/plain": [
       "(40, (0, 1, 2, 4))"
      ]
     },
     "execution_count": 42,
     "metadata": {},
     "output_type": "execute_result"
    }
   ],
   "source": [
    "    \n",
    "def computeKnapsackProblemDumbMethod(listOfValues, listOfWeights, capacity):\n",
    "    import itertools as it\n",
    "\n",
    "    listOfItemsById = []\n",
    "    for i in range(0, len(listOfValues)):\n",
    "        listOfItemsById.append(i)\n",
    "\n",
    "    allCombinations = []\n",
    "    for i in range(1, len(listOfItemsById) + 1):\n",
    "        auxComb = list(it.combinations(listOfItemsById, i))\n",
    "        for a in auxComb:\n",
    "            allCombinations.append(a)\n",
    "\n",
    "    bestValue = -1\n",
    "    bestTuple = None\n",
    "    for tuple in allCombinations:\n",
    "        #soma pesos e valor\n",
    "        sumWeights = 0\n",
    "        sumValues = 0\n",
    "        for elementID in tuple:\n",
    "            sumWeights += listOfWeights[elementID]\n",
    "            sumValues += listOfValues[elementID]\n",
    "\n",
    "        if sumWeights <= capacity:\n",
    "            if sumValues > bestValue:\n",
    "                bestValue = sumValues\n",
    "                bestTuple = tuple\n",
    "\n",
    "    return bestValue, bestTuple\n",
    "\n",
    "# Exemplo de uso\n",
    "items = [\n",
    "    (15, 15, 'Saco de dormir'),\n",
    "    (3, 7, 'Corda'),\n",
    "    (2, 10, 'Canivete'),\n",
    "    (5, 5, 'Tocha'),\n",
    "    (9, 8, 'Garrafa'),\n",
    "    (20, 17, 'Comida'),\n",
    "]\n",
    "\n",
    "capacity = 30\n",
    "\n",
    "computeKnapsackProblemDumbMethod([i[1] for i in items], [i[0] for i in items], capacity=30)"
   ]
  },
  {
   "cell_type": "code",
   "execution_count": 43,
   "metadata": {},
   "outputs": [
    {
     "name": "stdout",
     "output_type": "stream",
     "text": [
      "Valor máximo que pode ser carregado: 40\n",
      "Itens selecionados:\n",
      "Item: (9, 8) Peso: 9 Pontos: 8\n",
      "Item: (2, 10) Peso: 2 Pontos: 10\n",
      "Item: (3, 7) Peso: 3 Pontos: 7\n",
      "Item: (15, 15) Peso: 15 Pontos: 15\n"
     ]
    }
   ],
   "source": [
    "max_value, selected_items = knapsack(items, capacity)\n",
    "\n",
    "print(\"Valor máximo que pode ser carregado:\", max_value)\n",
    "print(\"Itens selecionados:\")\n",
    "for item in selected_items:\n",
    "    print(\"Item:\", item[:-1], \"Peso:\", item[0], \"Pontos:\", item[1])\n"
   ]
  }
 ],
 "metadata": {
  "kernelspec": {
   "display_name": "Python 3",
   "language": "python",
   "name": "python3"
  },
  "language_info": {
   "codemirror_mode": {
    "name": "ipython",
    "version": 3
   },
   "file_extension": ".py",
   "mimetype": "text/x-python",
   "name": "python",
   "nbconvert_exporter": "python",
   "pygments_lexer": "ipython3",
   "version": "3.11.5"
  }
 },
 "nbformat": 4,
 "nbformat_minor": 2
}
