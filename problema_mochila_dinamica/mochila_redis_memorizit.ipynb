{
 "cells": [
  {
   "cell_type": "markdown",
   "metadata": {},
   "source": [
    "# Instalar libs"
   ]
  },
  {
   "cell_type": "code",
   "execution_count": 1,
   "metadata": {},
   "outputs": [],
   "source": [
    "# !pip install memoizit\n",
    "# !pip install memoizit[redis]\n",
    "# !pip install redis\n",
    "# !pip install redis[hiredis]"
   ]
  },
  {
   "cell_type": "markdown",
   "metadata": {},
   "source": [
    "# Importar Configurar Memoizit + Redis"
   ]
  },
  {
   "cell_type": "code",
   "execution_count": 2,
   "metadata": {},
   "outputs": [],
   "source": [
    "import redis\n",
    "import time\n",
    "import random\n",
    "from memoizit import Memoizer\n",
    "from itertools import combinations\n",
    "from IPython.display import display_markdown\n",
    "import numpy as np\n",
    "\n",
    "m = Memoizer(\n",
    "    backend=\"redis\",\n",
    "    host=\"localhost\",\n",
    "    port=\"6379\"    \n",
    ")"
   ]
  },
  {
   "cell_type": "code",
   "execution_count": 3,
   "metadata": {},
   "outputs": [],
   "source": [
    "@m.memoize(\n",
    "    expiration=60*60*24\n",
    ")\n",
    "def knapsack(capacidade_maxima, pesos, valores, n):\n",
    "    # Inicializando uma matriz para armazenar os valores máximos possíveis\n",
    "    # para diferentes capacidades e número de itens\n",
    "    dp = [[0] * (capacidade_maxima + 1) for _ in range(n + 1)] # Gera n + 1 elementos contendo array de zeros de 0 até capacidade máxima\n",
    "\n",
    "    # Preenchendo a matriz dp usando a abordagem de programação dinâmica\n",
    "    for i in range(1, n + 1):\n",
    "        peso_item = pesos[i - 1]\n",
    "        valor_item = valores[i - 1]\n",
    "        for capacidade_atual in range(1, capacidade_maxima + 1):\n",
    "            if peso_item <= capacidade_atual:\n",
    "                # Se o peso do item for menor ou igual à capacidade atual,\n",
    "                # podemos considerar incluir o item na mochila\n",
    "                dp[i][capacidade_atual] = max(dp[i - 1][capacidade_atual],\n",
    "                                              dp[i - 1][capacidade_atual - peso_item] + valor_item)\n",
    "            else:\n",
    "                # Se o peso do item for maior que a capacidade atual,\n",
    "                # não podemos incluir o item na mochila\n",
    "                dp[i][capacidade_atual] = dp[i - 1][capacidade_atual]\n",
    "\n",
    "    # O valor máximo estará na célula dp[n][capacidade_maxima]\n",
    "    valor_maximo = dp[n][capacidade_maxima]\n",
    "\n",
    "    # Reconstruindo a lista de itens selecionados\n",
    "    itens_selecionados = []\n",
    "    capacidade_restante = capacidade_maxima\n",
    "    for i in range(n, 0, -1):\n",
    "        if dp[i][capacidade_restante] != dp[i - 1][capacidade_restante]:\n",
    "            itens_selecionados.append(i - 1)\n",
    "            capacidade_restante -= pesos[i - 1]\n",
    "\n",
    "    return valor_maximo, itens_selecionados, dp\n"
   ]
  },
  {
   "cell_type": "markdown",
   "metadata": {},
   "source": [
    "# Exemplo padrão"
   ]
  },
  {
   "cell_type": "code",
   "execution_count": 4,
   "metadata": {},
   "outputs": [
    {
     "name": "stdout",
     "output_type": "stream",
     "text": [
      "Tempo de execução: 0.008487462997436523 segundos\n",
      "Valor máximo: 40\n",
      "Itens selecionados: [4, 2, 1, 0]\n"
     ]
    }
   ],
   "source": [
    "# Exemplo de uso\n",
    "items = [\n",
    "    (15, 15, 'Saco de dormir'),\n",
    "    (3, 7, 'Corda'),\n",
    "    (2, 10, 'Canivete'),\n",
    "    (5, 5, 'Tocha'),\n",
    "    (9, 8, 'Garrafa'),\n",
    "    (20, 17, 'Comida'),\n",
    "]\n",
    "\n",
    "capacidade_maxima = 30\n",
    "pesos = [_[0] for _ in items]\n",
    "valores = [_[1] for _ in items]\n",
    "n = len(pesos)\n",
    "\n",
    "# Inicia a contagem do tempo\n",
    "start_time = time.time()\n",
    "\n",
    "max_valor, itens_selecionados, itens_analisados = knapsack(capacidade_maxima, pesos, valores, n)\n",
    "\n",
    "# Finaliza a contagem do tempo\n",
    "end_time = time.time()\n",
    "\n",
    "# Calcula o tempo de execução\n",
    "execution_time = end_time - start_time\n",
    "\n",
    "# Exibe o tempo de execução\n",
    "print(\"Tempo de execução:\", execution_time, \"segundos\")\n",
    "\n",
    "print(\"Valor máximo:\", max_valor)\n",
    "print(\"Itens selecionados:\", itens_selecionados)\n",
    "\n"
   ]
  },
  {
   "cell_type": "code",
   "execution_count": 29,
   "metadata": {},
   "outputs": [
    {
     "data": {
      "text/markdown": [
       "# Combinação Produtos\n",
       "Melhor combinação: <a>C_42</a>\n",
       "\n",
       "Produtos: Canivete,Corda,Garrafa,Saco de dormir\n",
       "\n",
       "| Produto | C_0 | C_1 | C_2 | C_3 | C_4 | C_5 | C_6 | C_7 | C_8 | C_9 | C_10 | C_11 | C_12 | C_13 | C_14 | C_15 | C_16 | C_17 | C_18 | C_19 | C_20 | C_21 | C_22 | C_23 | C_24 | C_25 | C_26 | C_27 | C_28 | C_29 | C_30 | C_31 | C_32 | C_33 | C_34 | C_35 | C_36 | C_37 | C_38 | C_39 | C_40 | C_41 | *<a>C_42</a>* | C_43 | C_44 | C_45 | C_46 | C_47 | C_48 | C_49 | C_50 | C_51 | C_52 | C_53 | C_54 | C_55 | C_56 | C_57 | C_58 | C_59 | C_60 | C_61 | C_62 |\n",
       "|---------|-----|-----|-----|-----|-----|-----|-----|-----|-----|-----|-----|-----|-----|-----|-----|-----|-----|-----|-----|-----|-----|-----|-----|-----|-----|-----|-----|-----|-----|-----|-----|-----|-----|-----|-----|-----|-----|-----|-----|-----|-----|-----|-----|-----|-----|-----|-----|-----|-----|-----|-----|-----|-----|-----|-----|-----|-----|-----|-----|-----|-----|-----|-----|\n",
       "|Canivete|||<center>2</center>|||||<center>2</center>||||<center>2</center>||||<center>2</center>|<center>2</center>|<center>2</center>||||<center>2</center>||||<center>2</center>|<center>2</center>|<center>2</center>||||<center>2</center>|<center>2</center>|<center>2</center>||||<center>2</center>|<center>2</center>|<center>2</center>||<center>2</center>|<center>2</center>|<center>2</center>||||<center>2</center>|<center>2</center>|<center>2</center>||<center>2</center>|<center>2</center>|<center>2</center>||<center>2</center>|<center>2</center>|<center>2</center>|<center>2</center>||<center>2</center>|<center>2</center>|<center>2</center>|\n",
       "|Comida||||||<center>20</center>|||||<center>20</center>||||<center>20</center>|||<center>20</center>||<center>20</center>|<center>20</center>||||<center>20</center>|||<center>20</center>||<center>20</center>|<center>20</center>|||<center>20</center>||<center>20</center>|<center>20</center>||<center>20</center>|<center>20</center>|<center>20</center>|||<center>20</center>||<center>20</center>|<center>20</center>||<center>20</center>|<center>20</center>|<center>20</center>||<center>20</center>|<center>20</center>|<center>20</center>|<center>20</center>||<center>20</center>|<center>20</center>|<center>20</center>|<center>20</center>|<center>20</center>|<center>20</center>|\n",
       "|Corda||<center>3</center>|||||<center>3</center>|||||<center>3</center>|<center>3</center>|<center>3</center>|<center>3</center>|||||||<center>3</center>|<center>3</center>|<center>3</center>|<center>3</center>|||||||<center>3</center>|<center>3</center>|<center>3</center>|<center>3</center>|<center>3</center>|<center>3</center>|||||<center>3</center>|<center>3</center>|<center>3</center>|<center>3</center>|<center>3</center>|<center>3</center>|||||<center>3</center>|<center>3</center>|<center>3</center>|<center>3</center>||<center>3</center>|<center>3</center>|<center>3</center>|<center>3</center>||<center>3</center>|<center>3</center>|\n",
       "|Garrafa|||||<center>9</center>|||||<center>9</center>||||<center>9</center>|||<center>9</center>||<center>9</center>||<center>9</center>|||<center>9</center>|||<center>9</center>||<center>9</center>||<center>9</center>||<center>9</center>||<center>9</center>||<center>9</center>|<center>9</center>||<center>9</center>|<center>9</center>||<center>9</center>||<center>9</center>||<center>9</center>|<center>9</center>||<center>9</center>|<center>9</center>|<center>9</center>||<center>9</center>|<center>9</center>|<center>9</center>|<center>9</center>||<center>9</center>|<center>9</center>|<center>9</center>|<center>9</center>|<center>9</center>|\n",
       "|Saco de dormir|<center>15</center>||||||<center>15</center>|<center>15</center>|<center>15</center>|<center>15</center>|<center>15</center>|||||||||||<center>15</center>|<center>15</center>|<center>15</center>|<center>15</center>|<center>15</center>|<center>15</center>|<center>15</center>|<center>15</center>|<center>15</center>|<center>15</center>|||||||||||<center>15</center>|<center>15</center>|<center>15</center>|<center>15</center>|<center>15</center>|<center>15</center>|<center>15</center>|<center>15</center>|<center>15</center>|<center>15</center>||||||<center>15</center>|<center>15</center>|<center>15</center>|<center>15</center>|<center>15</center>||<center>15</center>|\n",
       "|Tocha||||<center>5</center>|||||<center>5</center>||||<center>5</center>|||<center>5</center>|||<center>5</center>|<center>5</center>|||<center>5</center>|||<center>5</center>|||<center>5</center>|<center>5</center>||<center>5</center>|||<center>5</center>|<center>5</center>||<center>5</center>|<center>5</center>||<center>5</center>|<center>5</center>|||<center>5</center>|<center>5</center>||<center>5</center>|<center>5</center>||<center>5</center>|<center>5</center>|<center>5</center>||<center>5</center>|<center>5</center>|<center>5</center>|<center>5</center>||<center>5</center>|<center>5</center>|<center>5</center>|<center>5</center>|\n",
       "|<b>Peso</b>|<b><center>15</center></b>|<b><center>3</center></b>|<b><center>2</center></b>|<b><center>5</center></b>|<b><center>9</center></b>|<b><center>20</center></b>|<b><center>18</center></b>|<b><center>17</center></b>|<b><center>20</center></b>|<b><center>24</center></b>|<b><center>35</center></b>|<b><center>5</center></b>|<b><center>8</center></b>|<b><center>12</center></b>|<b><center>23</center></b>|<b><center>7</center></b>|<b><center>11</center></b>|<b><center>22</center></b>|<b><center>14</center></b>|<b><center>25</center></b>|<b><center>29</center></b>|<b><center>20</center></b>|<b><center>23</center></b>|<b><center>27</center></b>|<b><center>38</center></b>|<b><center>22</center></b>|<b><center>26</center></b>|<b><center>37</center></b>|<b><center>29</center></b>|<b><center>40</center></b>|<b><center>44</center></b>|<b><center>10</center></b>|<b><center>14</center></b>|<b><center>25</center></b>|<b><center>17</center></b>|<b><center>28</center></b>|<b><center>32</center></b>|<b><center>16</center></b>|<b><center>27</center></b>|<b><center>31</center></b>|<b><center>34</center></b>|<b><center>25</center></b>|<b><center>29</center></b>|<b><center>40</center></b>|<b><center>32</center></b>|<b><center>43</center></b>|<b><center>47</center></b>|<b><center>31</center></b>|<b><center>42</center></b>|<b><center>46</center></b>|<b><center>49</center></b>|<b><center>19</center></b>|<b><center>30</center></b>|<b><center>34</center></b>|<b><center>37</center></b>|<b><center>36</center></b>|<b><center>34</center></b>|<b><center>45</center></b>|<b><center>49</center></b>|<b><center>52</center></b>|<b><center>51</center></b>|<b><center>39</center></b>|<b><center>54</center></b>|\n",
       "|<b>Valor</b>|<b><center>15</center></b>|<b><center>7</center></b>|<b><center>10</center></b>|<b><center>5</center></b>|<b><center>8</center></b>|<b><center>17</center></b>|<b><center>22</center></b>|<b><center>25</center></b>|<b><center>20</center></b>|<b><center>23</center></b>|<b><center>32</center></b>|<b><center>17</center></b>|<b><center>12</center></b>|<b><center>15</center></b>|<b><center>24</center></b>|<b><center>15</center></b>|<b><center>18</center></b>|<b><center>27</center></b>|<b><center>13</center></b>|<b><center>22</center></b>|<b><center>25</center></b>|<b><center>32</center></b>|<b><center>27</center></b>|<b><center>30</center></b>|<b><center>39</center></b>|<b><center>30</center></b>|<b><center>33</center></b>|<b><center>42</center></b>|<b><center>28</center></b>|<b><center>37</center></b>|<b><center>40</center></b>|<b><center>22</center></b>|<b><center>25</center></b>|<b><center>34</center></b>|<b><center>20</center></b>|<b><center>29</center></b>|<b><center>32</center></b>|<b><center>23</center></b>|<b><center>32</center></b>|<b><center>35</center></b>|<b><center>30</center></b>|<b><center>37</center></b>|<b><center>40</center></b>|<b><center>49</center></b>|<b><center>35</center></b>|<b><center>44</center></b>|<b><center>47</center></b>|<b><center>38</center></b>|<b><center>47</center></b>|<b><center>50</center></b>|<b><center>45</center></b>|<b><center>30</center></b>|<b><center>39</center></b>|<b><center>42</center></b>|<b><center>37</center></b>|<b><center>40</center></b>|<b><center>45</center></b>|<b><center>54</center></b>|<b><center>57</center></b>|<b><center>52</center></b>|<b><center>55</center></b>|<b><center>47</center></b>|<b><center>62</center></b>|"
      ]
     },
     "metadata": {},
     "output_type": "display_data"
    }
   ],
   "source": [
    "data = []\n",
    "combinacoes = [list(combinations(map(lambda x: x[2], items), _)) for _ in range(1, len(items) + 1)]\n",
    "peso_valor_produtos = { _[2] : { \"peso\": _[0], \"valor\": _[1] } for _ in items }\n",
    "produtos_selecionados = [items[i][2] for i in itens_selecionados]\n",
    "produtos_selecionados.sort()\n",
    "\n",
    "id_combinacao_produto_chave_escolhido = None\n",
    "\n",
    "output = \"# Combinação Produtos\"\n",
    "\n",
    "for combinacao in enumerate(combinacoes):\n",
    "   id_combinacao, combinacoes_produtos = combinacao\n",
    "   \n",
    "   for cp in enumerate(combinacoes_produtos):\n",
    "      id_combinacao_produto, produtos = cp\n",
    "      id_combinacao_produto_chave = f\"{id_combinacao:03d}{id_combinacao_produto:03d}\"\n",
    "\n",
    "      produtos_list = list(produtos)\n",
    "      produtos_list.sort()\n",
    "\n",
    "      if produtos_list == produtos_selecionados:\n",
    "         id_combinacao_produto_chave_escolhido = id_combinacao_produto_chave\n",
    "\n",
    "      del produtos_list\n",
    "\n",
    "      for p in produtos:\n",
    "         data.append(\n",
    "            (\n",
    "               p,\n",
    "               id_combinacao_produto_chave,\n",
    "            )\n",
    "         )\n",
    "\n",
    "cenarios = list(set([_ for _ in map(lambda i: i[1], data)]))\n",
    "cenarios.sort()\n",
    "\n",
    "produtos = list(set([_ for _ in map(lambda i: i[0], data)]))\n",
    "produtos.sort()\n",
    "\n",
    "matriz = [[p] + [\n",
    "   (c, \n",
    "    True if p in map(lambda i: i[0], filter(lambda i: i[1] == c, data)) else False) \n",
    "    for c in cenarios] \n",
    "    for p in produtos]\n",
    "\n",
    "coluna_cenario_escolhido = cenarios.index(id_combinacao_produto_chave_escolhido)\n",
    "\n",
    "total = np.array([[0] * len(cenarios)] * 2)\n",
    "\n",
    "output += f\"\\nMelhor combinação: <a>C_{coluna_cenario_escolhido}</a>\\n\"\n",
    "output += f\"\\nProdutos: { ','.join(produtos_selecionados) }\\n\"\n",
    "\n",
    "output += \"\\n|\" + \"|\".join([\" Produto \"] + [f\" *<a>C_{c[0]}</a>* \" if c[0] == coluna_cenario_escolhido else f\" C_{c[0]} \" for c in enumerate(cenarios)]) + \"|\"\n",
    "output += \"\\n|\" + \"|\".join([\"---------\"] + [\"-\".join(([''] * (len(c) + 4))) for c in enumerate(cenarios)]) + \"|\"\n",
    "\n",
    "for m in matriz:\n",
    "   peso, valor = peso_valor_produtos[m[0]][\"peso\"], peso_valor_produtos[m[0]][\"valor\"]\n",
    "   output += \"\\n|\" + \"|\".join([m[0]] + [f\"<center>{peso}</center>\" if i[1] else \"\" for i in m[1:]]) + \"|\"\n",
    "\n",
    "   total_peso = [peso if i[1] else 0 for i in m[1:]]\n",
    "   total_valor = [valor if i[1] else 0 for i in m[1:]]\n",
    "\n",
    "   total = total + np.array([total_peso, total_valor])\n",
    "\n",
    "output += \"\\n|\" + \"|\".join([\"<b>Peso</b>\"] + [f\"<b><center>{i}</center></b>\" for i in total[0]]) + \"|\"\n",
    "output += \"\\n|\" + \"|\".join([\"<b>Valor</b>\"] + [f\"<b><center>{i}</center></b>\" for i in total[1]]) + \"|\"\n",
    "\n",
    "display_markdown(output, raw=True)\n"
   ]
  },
  {
   "cell_type": "code",
   "execution_count": 15,
   "metadata": {},
   "outputs": [
    {
     "data": {
      "text/plain": [
       "'003001'"
      ]
     },
     "execution_count": 15,
     "metadata": {},
     "output_type": "execute_result"
    }
   ],
   "source": [
    "id_combinacao_produto_chave_escolhido"
   ]
  },
  {
   "cell_type": "code",
   "execution_count": 6,
   "metadata": {},
   "outputs": [],
   "source": [
    "x_total = np.array(total)"
   ]
  },
  {
   "cell_type": "code",
   "execution_count": 7,
   "metadata": {},
   "outputs": [
    {
     "data": {
      "text/plain": [
       "array([[ 30,   6,   4,  10,  18,  40,  36,  34,  40,  48,  70,  10,  16,\n",
       "         24,  46,  14,  22,  44,  28,  50,  58,  40,  46,  54,  76,  44,\n",
       "         52,  74,  58,  80,  88,  20,  28,  50,  34,  56,  64,  32,  54,\n",
       "         62,  68,  50,  58,  80,  64,  86,  94,  62,  84,  92,  98,  38,\n",
       "         60,  68,  74,  72,  68,  90,  98, 104, 102,  78, 108],\n",
       "       [ 30,  14,  20,  10,  16,  34,  44,  50,  40,  46,  64,  34,  24,\n",
       "         30,  48,  30,  36,  54,  26,  44,  50,  64,  54,  60,  78,  60,\n",
       "         66,  84,  56,  74,  80,  44,  50,  68,  40,  58,  64,  46,  64,\n",
       "         70,  60,  74,  80,  98,  70,  88,  94,  76,  94, 100,  90,  60,\n",
       "         78,  84,  74,  80,  90, 108, 114, 104, 110,  94, 124]])"
      ]
     },
     "execution_count": 7,
     "metadata": {},
     "output_type": "execute_result"
    }
   ],
   "source": [
    "x_total + x_total"
   ]
  },
  {
   "cell_type": "code",
   "execution_count": null,
   "metadata": {},
   "outputs": [],
   "source": []
  }
 ],
 "metadata": {
  "kernelspec": {
   "display_name": "Python 3",
   "language": "python",
   "name": "python3"
  },
  "language_info": {
   "codemirror_mode": {
    "name": "ipython",
    "version": 3
   },
   "file_extension": ".py",
   "mimetype": "text/x-python",
   "name": "python",
   "nbconvert_exporter": "python",
   "pygments_lexer": "ipython3",
   "version": "3.11.5"
  }
 },
 "nbformat": 4,
 "nbformat_minor": 2
}
