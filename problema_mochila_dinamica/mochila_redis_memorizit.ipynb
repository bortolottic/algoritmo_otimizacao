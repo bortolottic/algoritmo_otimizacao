{
 "cells": [
  {
   "cell_type": "markdown",
   "metadata": {},
   "source": [
    "# Instalar libs"
   ]
  },
  {
   "cell_type": "code",
   "execution_count": 2,
   "metadata": {},
   "outputs": [],
   "source": [
    "# !pip install memoizit\n",
    "# !pip install memoizit[redis]\n",
    "# !pip install redis\n",
    "# !pip install redis[hiredis]"
   ]
  },
  {
   "cell_type": "markdown",
   "metadata": {},
   "source": [
    "# Importar Configurar Memoizit + Redis"
   ]
  },
  {
   "cell_type": "code",
   "execution_count": 127,
   "metadata": {},
   "outputs": [],
   "source": [
    "import redis\n",
    "import time\n",
    "import random\n",
    "from memoizit import Memoizer\n",
    "from itertools import combinations\n",
    "from IPython.display import display_markdown\n",
    "import numpy as np\n",
    "\n",
    "m = Memoizer(\n",
    "    backend=\"redis\",\n",
    "    host=\"localhost\",\n",
    "    port=\"6379\"    \n",
    ")"
   ]
  },
  {
   "cell_type": "code",
   "execution_count": 4,
   "metadata": {},
   "outputs": [],
   "source": [
    "# @m.memoize(\n",
    "#     expiration=60*60*24\n",
    "# )\n",
    "def knapsack(capacidade_maxima, pesos, valores, n):\n",
    "    # Inicializando uma matriz para armazenar os valores máximos possíveis\n",
    "    # para diferentes capacidades e número de itens\n",
    "    dp = [[0] * (capacidade_maxima + 1) for _ in range(n + 1)] # Gera n + 1 elementos contendo array de zeros de 0 até capacidade máxima\n",
    "\n",
    "    # Preenchendo a matriz dp usando a abordagem de programação dinâmica\n",
    "    for i in range(1, n + 1):\n",
    "        peso_item = pesos[i - 1]\n",
    "        valor_item = valores[i - 1]\n",
    "        for capacidade_atual in range(1, capacidade_maxima + 1):\n",
    "            if peso_item <= capacidade_atual:\n",
    "                # Se o peso do item for menor ou igual à capacidade atual,\n",
    "                # podemos considerar incluir o item na mochila\n",
    "                dp[i][capacidade_atual] = max(dp[i - 1][capacidade_atual],\n",
    "                                              dp[i - 1][capacidade_atual - peso_item] + valor_item)\n",
    "            else:\n",
    "                # Se o peso do item for maior que a capacidade atual,\n",
    "                # não podemos incluir o item na mochila\n",
    "                dp[i][capacidade_atual] = dp[i - 1][capacidade_atual]\n",
    "\n",
    "    # O valor máximo estará na célula dp[n][capacidade_maxima]\n",
    "    valor_maximo = dp[n][capacidade_maxima]\n",
    "\n",
    "    # Reconstruindo a lista de itens selecionados\n",
    "    itens_selecionados = []\n",
    "    capacidade_restante = capacidade_maxima\n",
    "    for i in range(n, 0, -1):\n",
    "        if dp[i][capacidade_restante] != dp[i - 1][capacidade_restante]:\n",
    "            itens_selecionados.append(i - 1)\n",
    "            capacidade_restante -= pesos[i - 1]\n",
    "\n",
    "    return valor_maximo, itens_selecionados, dp\n"
   ]
  },
  {
   "cell_type": "markdown",
   "metadata": {},
   "source": [
    "# Exemplo padrão"
   ]
  },
  {
   "cell_type": "code",
   "execution_count": 28,
   "metadata": {},
   "outputs": [
    {
     "name": "stdout",
     "output_type": "stream",
     "text": [
      "Tempo de execução: 0.0 segundos\n",
      "Valor máximo: 40\n",
      "Itens selecionados: [4, 2, 1, 0]\n"
     ]
    }
   ],
   "source": [
    "# Exemplo de uso\n",
    "items = [\n",
    "    (15, 15, 'Saco de dormir'),\n",
    "    (3, 7, 'Corda'),\n",
    "    (2, 10, 'Canivete'),\n",
    "    (5, 5, 'Tocha'),\n",
    "    (9, 8, 'Garrafa'),\n",
    "    (20, 17, 'Comida'),\n",
    "]\n",
    "\n",
    "capacidade_maxima = 30\n",
    "pesos = [_[0] for _ in items]\n",
    "valores = [_[1] for _ in items]\n",
    "n = len(pesos)\n",
    "\n",
    "# Inicia a contagem do tempo\n",
    "start_time = time.time()\n",
    "\n",
    "max_valor, itens_selecionados, itens_analisados = knapsack(capacidade_maxima, pesos, valores, n)\n",
    "\n",
    "# Finaliza a contagem do tempo\n",
    "end_time = time.time()\n",
    "\n",
    "# Calcula o tempo de execução\n",
    "execution_time = end_time - start_time\n",
    "\n",
    "# Exibe o tempo de execução\n",
    "print(\"Tempo de execução:\", execution_time, \"segundos\")\n",
    "\n",
    "print(\"Valor máximo:\", max_valor)\n",
    "print(\"Itens selecionados:\", itens_selecionados)\n",
    "\n"
   ]
  },
  {
   "cell_type": "code",
   "execution_count": 129,
   "metadata": {},
   "outputs": [
    {
     "data": {
      "text/markdown": [
       "# Combinação Produtos\n",
       "| Produto | C_0 | C_1 | C_2 | C_3 | C_4 | C_5 | C_6 | C_7 | C_8 | C_9 | C_10 | C_11 | C_12 | C_13 | C_14 | C_15 | C_16 | C_17 | C_18 | C_19 | C_20 | C_21 | C_22 | C_23 | C_24 | C_25 | C_26 | C_27 | C_28 | C_29 | C_30 | C_31 | C_32 | C_33 | C_34 | C_35 | C_36 | C_37 | C_38 | C_39 | C_40 | C_41 | C_42 | C_43 | C_44 | C_45 | C_46 | C_47 | C_48 | C_49 | C_50 | C_51 | C_52 | C_53 | C_54 | C_55 | C_56 | C_57 | C_58 | C_59 | C_60 | C_61 | C_62 |\n",
       "|---------|-----|-----|-----|-----|-----|-----|-----|-----|-----|-----|-----|-----|-----|-----|-----|-----|-----|-----|-----|-----|-----|-----|-----|-----|-----|-----|-----|-----|-----|-----|-----|-----|-----|-----|-----|-----|-----|-----|-----|-----|-----|-----|-----|-----|-----|-----|-----|-----|-----|-----|-----|-----|-----|-----|-----|-----|-----|-----|-----|-----|-----|-----|-----|\n",
       "|Canivete|||2|||||2||||2||||2|2|2||||2||||2|2|2||||2|2|2||||2|2|2||2|2|2||||2|2|2||2|2|2||2|2|2|2||2|2|2|\n",
       "|Comida||||||20|||||20||||20|||20||20|20||||20|||20||20|20|||20||20|20||20|20|20|||20||20|20||20|20|20||20|20|20|20||20|20|20|20|20|20|\n",
       "|Corda||3|||||3|||||3|3|3|3|||||||3|3|3|3|||||||3|3|3|3|3|3|||||3|3|3|3|3|3|||||3|3|3|3||3|3|3|3||3|3|\n",
       "|Garrafa|||||9|||||9||||9|||9||9||9|||9|||9||9||9||9||9||9|9||9|9||9||9||9|9||9|9|9||9|9|9|9||9|9|9|9|9|\n",
       "|Saco de dormir|15||||||15|15|15|15|15|||||||||||15|15|15|15|15|15|15|15|15|15|||||||||||15|15|15|15|15|15|15|15|15|15||||||15|15|15|15|15||15|\n",
       "|Tocha||||5|||||5||||5|||5|||5|5|||5|||5|||5|5||5|||5|5||5|5||5|5|||5|5||5|5||5|5|5||5|5|5|5||5|5|5|5|\n",
       "|<b>Peso</b>|15|3|2|5|9|20|18|17|20|24|35|5|8|12|23|7|11|22|14|25|29|20|23|27|38|22|26|37|29|40|44|10|14|25|17|28|32|16|27|31|34|25|29|40|32|43|47|31|42|46|49|19|30|34|37|36|34|45|49|52|51|39|54|\n",
       "|<b>Valor</b>|15|7|10|5|8|17|22|25|20|23|32|17|12|15|24|15|18|27|13|22|25|32|27|30|39|30|33|42|28|37|40|22|25|34|20|29|32|23|32|35|30|37|40|49|35|44|47|38|47|50|45|30|39|42|37|40|45|54|57|52|55|47|62|"
      ]
     },
     "metadata": {},
     "output_type": "display_data"
    }
   ],
   "source": [
    "data = []\n",
    "combinacoes = [list(combinations(map(lambda x: x[2], items), _)) for _ in range(1, len(items) + 1)]\n",
    "peso_valor_produtos = { _[2] : { \"peso\": _[0], \"valor\": _[1] } for _ in items }\n",
    "produtos_selecionados = [items[i][2] for i in itens_selecionados]\n",
    "\n",
    "output = \"# Combinação Produtos\"\n",
    "\n",
    "for combinacao in enumerate(combinacoes):\n",
    "   id_combinacao, combinacoes_produtos = combinacao\n",
    "   \n",
    "   for cp in enumerate(combinacoes_produtos):\n",
    "      id_combinacao_produto, produtos = cp\n",
    "      id_combinacao_produto_chave = f\"{id_combinacao:03d}{id_combinacao_produto:03d}\"\n",
    "\n",
    "      for p in produtos:\n",
    "         data.append(\n",
    "            (\n",
    "               p,\n",
    "               id_combinacao_produto_chave,\n",
    "            )\n",
    "         )\n",
    "\n",
    "cenarios = list(set([_ for _ in map(lambda i: i[1], data)]))\n",
    "cenarios.sort()\n",
    "\n",
    "produtos = list(set([_ for _ in map(lambda i: i[0], data)]))\n",
    "produtos.sort()\n",
    "\n",
    "matriz = [[p] + [\n",
    "   (c, \n",
    "    True if p in map(lambda i: i[0], filter(lambda i: i[1] == c, data)) else False) \n",
    "    for c in cenarios] \n",
    "    for p in produtos]\n",
    "\n",
    "total = np.array([[0] * len(cenarios)] * 2)\n",
    "\n",
    "output += \"\\n|\" + \"|\".join([\" Produto \"] + [f\" C_{c[0]} \" for c in enumerate(cenarios)]) + \"|\"\n",
    "output += \"\\n|\" + \"|\".join([\"---------\"] + [\"-\".join(([''] * (len(c) + 4))) for c in enumerate(cenarios)]) + \"|\"\n",
    "\n",
    "for m in matriz:\n",
    "   peso, valor = peso_valor_produtos[m[0]][\"peso\"], peso_valor_produtos[m[0]][\"valor\"]\n",
    "   output += \"\\n|\" + \"|\".join([m[0]] + [str(peso) if i[1] else \"\" for i in m[1:]]) + \"|\"\n",
    "\n",
    "   total_peso = [peso if i[1] else 0 for i in m[1:]]\n",
    "   total_valor = [valor if i[1] else 0 for i in m[1:]]\n",
    "\n",
    "   total = total + np.array([total_peso, total_valor])\n",
    "\n",
    "output += \"\\n|\" + \"|\".join([\"<b>Peso</b>\"] + [str(i) for i in total[0]]) + \"|\"\n",
    "output += \"\\n|\" + \"|\".join([\"<b>Valor</b>\"] + [str(i) for i in total[1]]) + \"|\"\n",
    "\n",
    "display_markdown(output, raw=True)\n"
   ]
  },
  {
   "cell_type": "code",
   "execution_count": 119,
   "metadata": {},
   "outputs": [],
   "source": []
  },
  {
   "cell_type": "code",
   "execution_count": 124,
   "metadata": {},
   "outputs": [],
   "source": [
    "x_total = np.array(total)"
   ]
  },
  {
   "cell_type": "code",
   "execution_count": 126,
   "metadata": {},
   "outputs": [
    {
     "data": {
      "text/plain": [
       "array([[ 0,  0,  0,  0,  0,  0,  0,  0,  0,  0,  0,  0,  0,  0,  0,  0,\n",
       "         0,  0,  0,  0,  0,  0,  0,  0,  0,  0,  0,  0,  0,  0,  0,  0,\n",
       "         0,  0,  0,  0,  0,  0,  0,  0,  0,  0,  0,  0,  0,  0,  0,  0,\n",
       "         0,  0,  0,  0,  0,  0,  0,  0,  0,  0,  0,  0,  0,  0,  0,  0,\n",
       "         0,  4,  0,  0,  0,  0,  4,  0,  0,  0,  4,  0,  0,  0,  4,  4,\n",
       "         4,  0,  0,  0,  4,  0,  0,  0,  4,  4,  4,  0,  0,  0,  4,  4,\n",
       "         4,  0,  0,  0,  4,  4,  4,  0,  4,  4,  4,  0,  0,  0,  4,  4,\n",
       "         4,  0,  4,  4,  4,  0,  4,  4,  4,  4,  0,  4,  4,  4,  0,  0,\n",
       "         0,  0,  0, 40,  0,  0,  0,  0, 40,  0,  0,  0, 40,  0,  0, 40,\n",
       "         0, 40, 40,  0,  0,  0, 40,  0,  0, 40,  0, 40, 40,  0,  0, 40,\n",
       "         0, 40, 40,  0, 40, 40, 40,  0,  0, 40,  0, 40, 40,  0, 40, 40,\n",
       "        40,  0, 40, 40, 40, 40,  0, 40, 40, 40, 40, 40, 40,  0,  6,  0,\n",
       "         0,  0,  0,  6,  0,  0,  0,  0,  6,  6,  6,  6,  0,  0,  0,  0,\n",
       "         0,  0,  6,  6,  6,  6,  0,  0,  0,  0,  0,  0,  6,  6,  6,  6,\n",
       "         6,  6,  0,  0,  0,  0,  6,  6,  6,  6,  6,  6,  0,  0,  0,  0,\n",
       "         6,  6,  6,  6,  0,  6,  6,  6,  6,  0,  6,  6,  0,  0,  0,  0,\n",
       "        18,  0,  0,  0,  0, 18,  0,  0,  0, 18,  0,  0, 18,  0, 18,  0,\n",
       "        18,  0,  0, 18,  0,  0, 18,  0, 18,  0, 18,  0, 18,  0, 18,  0,\n",
       "        18, 18,  0, 18, 18,  0, 18,  0, 18,  0, 18, 18,  0, 18, 18, 18,\n",
       "         0, 18, 18, 18, 18,  0, 18, 18, 18, 18, 18, 30,  0,  0,  0,  0,\n",
       "         0, 30, 30, 30, 30, 30,  0,  0,  0,  0,  0,  0,  0,  0,  0,  0,\n",
       "        30, 30, 30, 30, 30, 30, 30, 30, 30, 30,  0,  0,  0,  0,  0,  0,\n",
       "         0,  0,  0,  0, 30, 30, 30, 30, 30, 30, 30, 30, 30, 30,  0,  0,\n",
       "         0,  0,  0, 30, 30, 30, 30, 30,  0, 30,  0,  0,  0, 10,  0,  0,\n",
       "         0,  0, 10,  0,  0,  0, 10,  0,  0, 10,  0,  0, 10, 10,  0,  0,\n",
       "        10,  0,  0, 10,  0,  0, 10, 10,  0, 10,  0,  0, 10, 10,  0, 10,\n",
       "        10,  0, 10, 10,  0,  0, 10, 10,  0, 10, 10,  0, 10, 10, 10,  0,\n",
       "        10, 10, 10, 10,  0, 10, 10, 10, 10],\n",
       "       [ 0,  0,  0,  0,  0,  0,  0,  0,  0,  0,  0,  0,  0,  0,  0,  0,\n",
       "         0,  0,  0,  0,  0,  0,  0,  0,  0,  0,  0,  0,  0,  0,  0,  0,\n",
       "         0,  0,  0,  0,  0,  0,  0,  0,  0,  0,  0,  0,  0,  0,  0,  0,\n",
       "         0,  0,  0,  0,  0,  0,  0,  0,  0,  0,  0,  0,  0,  0,  0,  0,\n",
       "         0, 20,  0,  0,  0,  0, 20,  0,  0,  0, 20,  0,  0,  0, 20, 20,\n",
       "        20,  0,  0,  0, 20,  0,  0,  0, 20, 20, 20,  0,  0,  0, 20, 20,\n",
       "        20,  0,  0,  0, 20, 20, 20,  0, 20, 20, 20,  0,  0,  0, 20, 20,\n",
       "        20,  0, 20, 20, 20,  0, 20, 20, 20, 20,  0, 20, 20, 20,  0,  0,\n",
       "         0,  0,  0, 34,  0,  0,  0,  0, 34,  0,  0,  0, 34,  0,  0, 34,\n",
       "         0, 34, 34,  0,  0,  0, 34,  0,  0, 34,  0, 34, 34,  0,  0, 34,\n",
       "         0, 34, 34,  0, 34, 34, 34,  0,  0, 34,  0, 34, 34,  0, 34, 34,\n",
       "        34,  0, 34, 34, 34, 34,  0, 34, 34, 34, 34, 34, 34,  0, 14,  0,\n",
       "         0,  0,  0, 14,  0,  0,  0,  0, 14, 14, 14, 14,  0,  0,  0,  0,\n",
       "         0,  0, 14, 14, 14, 14,  0,  0,  0,  0,  0,  0, 14, 14, 14, 14,\n",
       "        14, 14,  0,  0,  0,  0, 14, 14, 14, 14, 14, 14,  0,  0,  0,  0,\n",
       "        14, 14, 14, 14,  0, 14, 14, 14, 14,  0, 14, 14,  0,  0,  0,  0,\n",
       "        16,  0,  0,  0,  0, 16,  0,  0,  0, 16,  0,  0, 16,  0, 16,  0,\n",
       "        16,  0,  0, 16,  0,  0, 16,  0, 16,  0, 16,  0, 16,  0, 16,  0,\n",
       "        16, 16,  0, 16, 16,  0, 16,  0, 16,  0, 16, 16,  0, 16, 16, 16,\n",
       "         0, 16, 16, 16, 16,  0, 16, 16, 16, 16, 16, 30,  0,  0,  0,  0,\n",
       "         0, 30, 30, 30, 30, 30,  0,  0,  0,  0,  0,  0,  0,  0,  0,  0,\n",
       "        30, 30, 30, 30, 30, 30, 30, 30, 30, 30,  0,  0,  0,  0,  0,  0,\n",
       "         0,  0,  0,  0, 30, 30, 30, 30, 30, 30, 30, 30, 30, 30,  0,  0,\n",
       "         0,  0,  0, 30, 30, 30, 30, 30,  0, 30,  0,  0,  0, 10,  0,  0,\n",
       "         0,  0, 10,  0,  0,  0, 10,  0,  0, 10,  0,  0, 10, 10,  0,  0,\n",
       "        10,  0,  0, 10,  0,  0, 10, 10,  0, 10,  0,  0, 10, 10,  0, 10,\n",
       "        10,  0, 10, 10,  0,  0, 10, 10,  0, 10, 10,  0, 10, 10, 10,  0,\n",
       "        10, 10, 10, 10,  0, 10, 10, 10, 10]])"
      ]
     },
     "execution_count": 126,
     "metadata": {},
     "output_type": "execute_result"
    }
   ],
   "source": [
    "x_total + x_total"
   ]
  },
  {
   "cell_type": "code",
   "execution_count": null,
   "metadata": {},
   "outputs": [],
   "source": []
  }
 ],
 "metadata": {
  "kernelspec": {
   "display_name": "Python 3",
   "language": "python",
   "name": "python3"
  },
  "language_info": {
   "codemirror_mode": {
    "name": "ipython",
    "version": 3
   },
   "file_extension": ".py",
   "mimetype": "text/x-python",
   "name": "python",
   "nbconvert_exporter": "python",
   "pygments_lexer": "ipython3",
   "version": "3.11.5"
  }
 },
 "nbformat": 4,
 "nbformat_minor": 2
}
