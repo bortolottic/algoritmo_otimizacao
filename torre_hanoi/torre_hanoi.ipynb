{
 "cells": [
  {
   "cell_type": "code",
   "execution_count": 2,
   "metadata": {},
   "outputs": [
    {
     "name": "stdout",
     "output_type": "stream",
     "text": [
      "Mova o disco 1 de A para B\n",
      "Mova o disco 2 de A para C\n",
      "Mova o disco 1 de B para C\n",
      "Mova o disco 3 de A para B\n",
      "Mova o disco 1 de C para A\n",
      "Mova o disco 2 de C para B\n",
      "Mova o disco 1 de A para B\n"
     ]
    }
   ],
   "source": [
    "def torre_hanoi(n, origem, destino, auxiliar):\n",
    "    if n == 1:\n",
    "        print(\"Mova o disco 1 de\", origem, \"para\", destino)\n",
    "        return\n",
    "    torre_hanoi(n-1, origem, auxiliar, destino)\n",
    "    print(\"Mova o disco\", n, \"de\", origem, \"para\", destino)\n",
    "    torre_hanoi(n-1, auxiliar, destino, origem)\n",
    "\n",
    "# Exemplo de uso:\n",
    "num_discos = 5\n",
    "\n",
    "\n",
    "torre_hanoi(num_discos, 'A', 'C', 'B')\n"
   ]
  }
 ],
 "metadata": {
  "kernelspec": {
   "display_name": "Python 3",
   "language": "python",
   "name": "python3"
  },
  "language_info": {
   "codemirror_mode": {
    "name": "ipython",
    "version": 3
   },
   "file_extension": ".py",
   "mimetype": "text/x-python",
   "name": "python",
   "nbconvert_exporter": "python",
   "pygments_lexer": "ipython3",
   "version": "3.11.5"
  }
 },
 "nbformat": 4,
 "nbformat_minor": 2
}
